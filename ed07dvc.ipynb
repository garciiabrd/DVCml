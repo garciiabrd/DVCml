{
  "nbformat": 4,
  "nbformat_minor": 0,
  "metadata": {
    "colab": {
      "private_outputs": true,
      "provenance": [],
      "authorship_tag": "ABX9TyMznTE4BOawxADw2hPxQqHZ",
      "include_colab_link": true
    },
    "kernelspec": {
      "name": "python3",
      "display_name": "Python 3"
    },
    "language_info": {
      "name": "python"
    }
  },
  "cells": [
    {
      "cell_type": "markdown",
      "metadata": {
        "id": "view-in-github",
        "colab_type": "text"
      },
      "source": [
        "<a href=\"https://colab.research.google.com/github/garciiabrd/DVCml/blob/main/ed07dvc.ipynb\" target=\"_parent\"><img src=\"https://colab.research.google.com/assets/colab-badge.svg\" alt=\"Open In Colab\"/></a>"
      ]
    },
    {
      "cell_type": "markdown",
      "source": [
        "1. Instalação das Bibliotecas Necessárias"
      ],
      "metadata": {
        "id": "eJmnRMqfK8Iq"
      }
    },
    {
      "cell_type": "code",
      "execution_count": null,
      "metadata": {
        "id": "6AjVMT7PIvD9"
      },
      "outputs": [],
      "source": [
        "!pip install dvc\n",
        "!pip install scikit-learn"
      ]
    },
    {
      "cell_type": "markdown",
      "source": [
        "2. Código do Scriptevaluate.py"
      ],
      "metadata": {
        "id": "Gz6PlNWeLmni"
      }
    },
    {
      "cell_type": "code",
      "source": [
        "import pandas as pd\n",
        "from sklearn.model_selection import train_test_split\n",
        "from sklearn.tree import DecisionTreeClassifier\n",
        "from sklearn.metrics import accuracy_score, classification_report\n",
        "import joblib"
      ],
      "metadata": {
        "id": "6-Vt0BuwMJ3x"
      },
      "execution_count": null,
      "outputs": []
    },
    {
      "cell_type": "code",
      "source": [
        "df= pd.read_csv('/content/drive/MyDrive/Dados/iris.csv')\n",
        "df.head()"
      ],
      "metadata": {
        "id": "ooypVCEiKE5u"
      },
      "execution_count": null,
      "outputs": []
    },
    {
      "cell_type": "code",
      "source": [
        "# Separar as características e o alvo\n",
        "X = df.drop('variety', axis=1)\n",
        "y = df['variety']"
      ],
      "metadata": {
        "id": "qZfdLStiMSXu"
      },
      "execution_count": null,
      "outputs": []
    },
    {
      "cell_type": "code",
      "source": [
        "# Dividir os dados em conjunto de treino e teste\n",
        "X_train, X_test, y_train, y_test = train_test_split(X, y, test_size=0.2, random_state=42)"
      ],
      "metadata": {
        "id": "0vTWtyYaMahY"
      },
      "execution_count": null,
      "outputs": []
    },
    {
      "cell_type": "code",
      "source": [
        "# Treinar o modelo (caso ainda não tenha feito)\n",
        "model = DecisionTreeClassifier(random_state=42)\n",
        "model.fit(X_train, y_train)"
      ],
      "metadata": {
        "id": "GCxrHsQ_PX20"
      },
      "execution_count": null,
      "outputs": []
    },
    {
      "cell_type": "code",
      "source": [
        "# Salva o modelo treinado\n",
        "joblib.dump(model, 'model.pkl')"
      ],
      "metadata": {
        "id": "YckmHoEYPjns"
      },
      "execution_count": null,
      "outputs": []
    },
    {
      "cell_type": "code",
      "source": [
        "# Carregar o modelo treinado\n",
        "model = joblib.load('model.pkl')"
      ],
      "metadata": {
        "id": "KtOH8fMaMdpY"
      },
      "execution_count": null,
      "outputs": []
    },
    {
      "cell_type": "code",
      "source": [
        "# Fazer previsões\n",
        "y_pred = model.predict(X_test)"
      ],
      "metadata": {
        "id": "iwDx59CgMgNg"
      },
      "execution_count": null,
      "outputs": []
    },
    {
      "cell_type": "code",
      "source": [
        "# Avaliar as métricas\n",
        "accuracy = accuracy_score(y_test, y_pred)\n",
        "report = classification_report(y_test, y_pred)"
      ],
      "metadata": {
        "id": "yWcSAOr2Mizl"
      },
      "execution_count": null,
      "outputs": []
    },
    {
      "cell_type": "code",
      "source": [
        "# Salvar as métricas em um arquivo\n",
        "with open('metrics.txt', 'w') as f:\n",
        "    f.write(f'Accuracy: {accuracy}\\n\\n')\n",
        "    f.write('Classification Report:\\n')\n",
        "    f.write(report)\n",
        "\n",
        "print(\"Avaliação concluída. Métricas salvas em metrics.txt.\")"
      ],
      "metadata": {
        "id": "Vd2CIJWJMlhE"
      },
      "execution_count": null,
      "outputs": []
    },
    {
      "cell_type": "markdown",
      "source": [
        "3. Adicionar o Script ao DVC"
      ],
      "metadata": {
        "id": "6Dy85zUNMpfw"
      }
    },
    {
      "cell_type": "code",
      "source": [
        "!dvc run -n evaluate_model \\\n",
        "    -d evaluate.py -d model.pkl -d iris.csv \\\n",
        "    -o metrics.txt \\\n",
        "    python evaluate.py"
      ],
      "metadata": {
        "id": "ayNmBtRbMsqx"
      },
      "execution_count": null,
      "outputs": []
    },
    {
      "cell_type": "markdown",
      "source": [
        "4. Rodar a Avaliação"
      ],
      "metadata": {
        "id": "Y3zt7hP8Mw8s"
      }
    },
    {
      "cell_type": "code",
      "source": [
        "# Instalar Git (se necessário, mas normalmente já está disponível no Colab)\n",
        "!apt-get install git"
      ],
      "metadata": {
        "id": "gwLPcpb7Q4PC"
      },
      "execution_count": null,
      "outputs": []
    },
    {
      "cell_type": "code",
      "source": [
        "# Passo 1: Configurar o Git\n",
        "!apt-get install git\n",
        "!git config --global user.name \"garciiabrd\"\n",
        "!git config --global user.email \"brendagarcia09200@gmail.com\""
      ],
      "metadata": {
        "id": "70cD7iy4SBgJ"
      },
      "execution_count": null,
      "outputs": []
    },
    {
      "cell_type": "code",
      "source": [
        "# Passo 2: Clonar o repositório\n",
        "!git clone https://github.com/garciiabrd/DVCml.git\n",
        "%cd DVCml"
      ],
      "metadata": {
        "id": "bNcaOe1qX-kB"
      },
      "execution_count": null,
      "outputs": []
    },
    {
      "cell_type": "code",
      "source": [
        "# Passo 3: Inicializar o DVC\n",
        "!dvc init"
      ],
      "metadata": {
        "id": "1Z1QNcx9YAKE"
      },
      "execution_count": null,
      "outputs": []
    },
    {
      "cell_type": "code",
      "source": [
        "# Passo 4: Adicionar o script ao DVC\n",
        "!dvc stage add -n evaluate_model \\\n",
        "    -d evaluate.py -d model.pkl -d iris.csv \\\n",
        "    -o metrics.txt \\\n",
        "    python evaluate.py"
      ],
      "metadata": {
        "id": "-ZiLVd2hYCuh"
      },
      "execution_count": null,
      "outputs": []
    },
    {
      "cell_type": "code",
      "source": [
        "#Listar arquivos para verificar a estrutura\n",
        "!ls -la"
      ],
      "metadata": {
        "id": "9XhgxUtdZAmB"
      },
      "execution_count": null,
      "outputs": []
    },
    {
      "cell_type": "code",
      "source": [
        "#Adicionar o estágio ao DVC, ajustando o caminho conforme necessário\n",
        "!dvc stage add -n evaluate_model --force \\\n",
        "    -d evaluate.py -d model.pkl -d iris.csv \\\n",
        "    -o metrics.txt \\\n",
        "    python evaluate.py\n"
      ],
      "metadata": {
        "id": "s5IeQoZeZEyN"
      },
      "execution_count": null,
      "outputs": []
    },
    {
      "cell_type": "code",
      "source": [
        "#Passo 5: Rodar o pipeline para gerar metrics.txt\n",
        "!dvc repro"
      ],
      "metadata": {
        "id": "Aq9x-zSnYFwA"
      },
      "execution_count": null,
      "outputs": []
    },
    {
      "cell_type": "code",
      "source": [
        "#Passo 6: Adicionar e fazer commit dos arquivos\n",
        "!git add .gitignore dvc.yaml metrics.txt.dvc\n",
        "!git commit -m \"Add evaluation metrics\""
      ],
      "metadata": {
        "id": "bXeQ2hFhYIeV"
      },
      "execution_count": null,
      "outputs": []
    },
    {
      "cell_type": "code",
      "source": [
        "#Passo 7: Enviar para o GitHub\n",
        "!git push origin main"
      ],
      "metadata": {
        "id": "2-MVKlrkYLG0"
      },
      "execution_count": null,
      "outputs": []
    }
  ]
}